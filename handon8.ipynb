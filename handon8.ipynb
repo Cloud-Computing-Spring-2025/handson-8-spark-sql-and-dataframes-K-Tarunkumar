{
  "nbformat": 4,
  "nbformat_minor": 0,
  "metadata": {
    "colab": {
      "provenance": []
    },
    "kernelspec": {
      "name": "python3",
      "display_name": "Python 3"
    },
    "language_info": {
      "name": "python"
    }
  },
  "cells": [
    {
      "cell_type": "code",
      "execution_count": 2,
      "metadata": {
        "colab": {
          "base_uri": "https://localhost:8080/"
        },
        "id": "afrqbUjAKh0T",
        "outputId": "0f4a2036-70ef-4886-b7a1-106930507031"
      },
      "outputs": [
        {
          "output_type": "stream",
          "name": "stdout",
          "text": [
            "✅ Dataset generation complete: 'users.csv' and 'posts.csv' created in /input/\n"
          ]
        }
      ],
      "source": [
        "import csv\n",
        "import os\n",
        "import random\n",
        "from datetime import datetime, timedelta\n",
        "\n",
        "# Create input directory if it doesn't exist\n",
        "os.makedirs(\"input\", exist_ok=True)\n",
        "\n",
        "# Sample users\n",
        "user_data = []\n",
        "usernames = [\n",
        "    \"@techie42\", \"@critic99\", \"@daily_vibes\", \"@designer_dan\", \"@rage_user\",\n",
        "    \"@meme_lord\", \"@social_queen\", \"@calm_mind\", \"@pixel_pusher\", \"@stream_bot\"\n",
        "]\n",
        "age_groups = [\"Teen\", \"Adult\", \"Senior\"]\n",
        "countries = [\"US\", \"UK\", \"Canada\", \"India\", \"Germany\", \"Brazil\"]\n",
        "verified_status = [True, False]\n",
        "\n",
        "for user_id in range(1, 9):\n",
        "    user = {\n",
        "        \"UserID\": user_id,\n",
        "        \"Username\": usernames[user_id - 1],\n",
        "        \"AgeGroup\": random.choice(age_groups),\n",
        "        \"Country\": random.choice(countries),\n",
        "        \"Verified\": random.choice(verified_status)\n",
        "    }\n",
        "    user_data.append(user)\n",
        "\n",
        "# Write users.csv\n",
        "with open(\"input/users.csv\", mode=\"w\", newline=\"\") as file:\n",
        "    writer = csv.DictWriter(file, fieldnames=user_data[0].keys())\n",
        "    writer.writeheader()\n",
        "    writer.writerows(user_data)\n",
        "\n",
        "# Sample posts\n",
        "hashtags_pool = [\"#tech\", \"#fail\", \"#design\", \"#UX\", \"#cleanUI\", \"#mood\", \"#bug\", \"#love\", \"#social\", \"#AI\"]\n",
        "contents = [\n",
        "    \"Loving the new update!\",\n",
        "    \"This app keeps crashing. So annoying.\",\n",
        "    \"Just another day...\",\n",
        "    \"Absolutely love the UX!\",\n",
        "    \"Worst experience ever.\",\n",
        "    \"Such a smooth interface!\",\n",
        "    \"Great performance on mobile.\",\n",
        "    \"Can’t stop using it!\",\n",
        "    \"Needs dark mode ASAP!\",\n",
        "    \"I’m impressed with the speed.\"\n",
        "]\n",
        "\n",
        "posts_data = []\n",
        "base_time = datetime.now()\n",
        "\n",
        "for post_id in range(101, 201):\n",
        "    uid = random.randint(1, 10)\n",
        "    timestamp = (base_time - timedelta(hours=random.randint(0, 240))).strftime(\"%Y-%m-%d %H:%M:%S\")\n",
        "    content = random.choice(contents)\n",
        "    likes = random.randint(0, 150)\n",
        "    retweets = random.randint(0, 50)\n",
        "    sentiment = round(random.uniform(-1, 1), 2)\n",
        "    hashtags = \",\".join(random.sample(hashtags_pool, random.randint(1, 3)))\n",
        "\n",
        "    post = {\n",
        "        \"PostID\": post_id,\n",
        "        \"UserID\": uid,\n",
        "        \"Content\": content,\n",
        "        \"Timestamp\": timestamp,\n",
        "        \"Likes\": likes,\n",
        "        \"Retweets\": retweets,\n",
        "        \"Hashtags\": hashtags,\n",
        "        \"SentimentScore\": sentiment\n",
        "    }\n",
        "    posts_data.append(post)\n",
        "\n",
        "# Write posts.csv\n",
        "with open(\"input/posts.csv\", mode=\"w\", newline=\"\", encoding=\"utf-8\") as file:\n",
        "    writer = csv.DictWriter(file, fieldnames=posts_data[0].keys())\n",
        "    writer.writeheader()\n",
        "    writer.writerows(posts_data)\n",
        "\n",
        "print(\"✅ Dataset generation complete: 'users.csv' and 'posts.csv' created in /input/\")"
      ]
    },
    {
      "cell_type": "code",
      "source": [
        "import pandas as pd\n",
        "\n",
        "# Load datasets\n",
        "posts_df = pd.read_csv(\"input/posts.csv\")\n",
        "\n",
        "# Split Hashtags and expand into individual tags\n",
        "hashtags = posts_df['Hashtags'].str.split(',', expand=True).stack()\n",
        "\n",
        "# Count frequency of each hashtag\n",
        "hashtag_count = hashtags.value_counts().reset_index()\n",
        "hashtag_count.columns = ['Hashtag', 'Count']\n",
        "\n",
        "# Get the top 10 most used hashtags\n",
        "top_hashtags = hashtag_count.head(10)\n",
        "print(top_hashtags)\n"
      ],
      "metadata": {
        "colab": {
          "base_uri": "https://localhost:8080/"
        },
        "id": "qH5uSd1SN6a5",
        "outputId": "d4165161-5c2a-4de0-e520-e622ad9cf065"
      },
      "execution_count": 3,
      "outputs": [
        {
          "output_type": "stream",
          "name": "stdout",
          "text": [
            "    Hashtag  Count\n",
            "0   #social     26\n",
            "1       #UX     24\n",
            "2  #cleanUI     23\n",
            "3     #mood     23\n",
            "4      #bug     20\n",
            "5     #tech     20\n",
            "6     #love     20\n",
            "7       #AI     18\n",
            "8   #design     16\n",
            "9     #fail     12\n"
          ]
        }
      ]
    },
    {
      "cell_type": "code",
      "source": [
        "# Load datasets\n",
        "posts_df = pd.read_csv(\"input/posts.csv\")\n",
        "users_df = pd.read_csv(\"input/users.csv\")\n",
        "\n",
        "# Merge posts with users on UserID\n",
        "merged_df = pd.merge(posts_df, users_df, on=\"UserID\")\n",
        "\n",
        "# Group by AgeGroup and calculate average likes and retweets\n",
        "age_group_engagement = merged_df.groupby('AgeGroup').agg(\n",
        "    avg_likes=('Likes', 'mean'),\n",
        "    avg_retweets=('Retweets', 'mean')\n",
        ").reset_index()\n",
        "\n",
        "# Sort by average engagement (likes + retweets)\n",
        "age_group_engagement['total_engagement'] = age_group_engagement['avg_likes'] + age_group_engagement['avg_retweets']\n",
        "age_group_engagement = age_group_engagement.sort_values('total_engagement', ascending=False)\n",
        "\n",
        "print(age_group_engagement[['AgeGroup', 'avg_likes', 'avg_retweets']])\n"
      ],
      "metadata": {
        "colab": {
          "base_uri": "https://localhost:8080/"
        },
        "id": "DJg5wqutOHDN",
        "outputId": "87b4c61f-c875-4260-f161-8f018d73d6df"
      },
      "execution_count": 4,
      "outputs": [
        {
          "output_type": "stream",
          "name": "stdout",
          "text": [
            "  AgeGroup  avg_likes  avg_retweets\n",
            "1   Senior  75.093023     29.255814\n",
            "2     Teen  67.958333     26.250000\n",
            "0    Adult  66.000000     25.333333\n"
          ]
        }
      ]
    },
    {
      "cell_type": "code",
      "source": [
        "# Load datasets\n",
        "posts_df = pd.read_csv(\"input/posts.csv\")\n",
        "\n",
        "# Categorize Sentiment\n",
        "def categorize_sentiment(score):\n",
        "    if score > 0.2:\n",
        "        return 'Positive'\n",
        "    elif score < -0.2:\n",
        "        return 'Negative'\n",
        "    else:\n",
        "        return 'Neutral'\n",
        "\n",
        "posts_df['SentimentCategory'] = posts_df['SentimentScore'].apply(categorize_sentiment)\n",
        "\n",
        "# Group by sentiment category and calculate average likes and retweets\n",
        "sentiment_engagement = posts_df.groupby('SentimentCategory').agg(\n",
        "    avg_likes=('Likes', 'mean'),\n",
        "    avg_retweets=('Retweets', 'mean')\n",
        ").reset_index()\n",
        "\n",
        "print(sentiment_engagement)\n"
      ],
      "metadata": {
        "colab": {
          "base_uri": "https://localhost:8080/"
        },
        "id": "PV5ICZSNOO4x",
        "outputId": "94bea282-3bae-4d61-9d52-26fe28a7a1a7"
      },
      "execution_count": 5,
      "outputs": [
        {
          "output_type": "stream",
          "name": "stdout",
          "text": [
            "  SentimentCategory  avg_likes  avg_retweets\n",
            "0          Negative  64.617647     30.705882\n",
            "1           Neutral  76.187500     23.500000\n",
            "2          Positive  71.140000     28.520000\n"
          ]
        }
      ]
    },
    {
      "cell_type": "code",
      "source": [
        "# Load datasets\n",
        "posts_df = pd.read_csv(\"input/posts.csv\")\n",
        "users_df = pd.read_csv(\"input/users.csv\")\n",
        "\n",
        "# Merge posts with users on UserID\n",
        "merged_df = pd.merge(posts_df, users_df, on=\"UserID\")\n",
        "\n",
        "# Filter verified users\n",
        "verified_users = merged_df[merged_df['Verified'] == True].copy()  # Create a copy to avoid SettingWithCopyWarning\n",
        "\n",
        "# Calculate total reach as Likes + Retweets using .loc[]\n",
        "verified_users.loc[:, 'TotalReach'] = verified_users['Likes'] + verified_users['Retweets']\n",
        "\n",
        "# Group by Username and sum the total reach\n",
        "user_reach = verified_users.groupby('Username').agg(total_reach=('TotalReach', 'sum')).reset_index()\n",
        "\n",
        "# Get top 5 users by total reach\n",
        "top_verified_users = user_reach.sort_values('total_reach', ascending=False).head(5)\n",
        "\n",
        "print(top_verified_users)\n"
      ],
      "metadata": {
        "colab": {
          "base_uri": "https://localhost:8080/"
        },
        "id": "zO7yvwL4OPlH",
        "outputId": "5b1a0861-724d-4dc5-ae18-6985d31c2f02"
      },
      "execution_count": 7,
      "outputs": [
        {
          "output_type": "stream",
          "name": "stdout",
          "text": [
            "        Username  total_reach\n",
            "2  @social_queen          845\n",
            "3      @techie42          822\n",
            "1     @rage_user          577\n",
            "0  @designer_dan          566\n"
          ]
        }
      ]
    },
    {
      "cell_type": "code",
      "source": [],
      "metadata": {
        "id": "M5j0oZh6OTXq"
      },
      "execution_count": null,
      "outputs": []
    }
  ]
}